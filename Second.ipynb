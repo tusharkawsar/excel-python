{
  "nbformat": 4,
  "nbformat_minor": 0,
  "metadata": {
    "kernelspec": {
      "display_name": "Python 3",
      "language": "python",
      "name": "python3"
    },
    "language_info": {
      "codemirror_mode": {
        "name": "ipython",
        "version": 3
      },
      "file_extension": ".py",
      "mimetype": "text/x-python",
      "name": "python",
      "nbconvert_exporter": "python",
      "pygments_lexer": "ipython3",
      "version": "3.6.3"
    },
    "colab": {
      "name": "Second.ipynb",
      "provenance": []
    }
  },
  "cells": [
    {
      "cell_type": "code",
      "metadata": {
        "id": "rhPiIwdBekCI",
        "colab_type": "code",
        "colab": {}
      },
      "source": [
        "import pandas as pd\n",
        "import os"
      ],
      "execution_count": 0,
      "outputs": []
    },
    {
      "cell_type": "code",
      "metadata": {
        "id": "MUzuregPemAn",
        "colab_type": "code",
        "colab": {}
      },
      "source": [
        ""
      ],
      "execution_count": 0,
      "outputs": []
    },
    {
      "cell_type": "markdown",
      "metadata": {
        "id": "-JSURNiferMn",
        "colab_type": "text"
      },
      "source": [
        "# Just opened this ipynb file directly from github via google colab and added this cell. Wow!"
      ]
    },
    {
      "cell_type": "code",
      "metadata": {
        "id": "E-C_XEhFekCT",
        "colab_type": "code",
        "colab": {},
        "outputId": "e87b05ec-b6ba-4d67-bab8-5b953a101535"
      },
      "source": [
        "os.listdir(os.getcwd())"
      ],
      "execution_count": 0,
      "outputs": [
        {
          "output_type": "execute_result",
          "data": {
            "text/plain": [
              "['.git',\n",
              " '.gitattributes',\n",
              " '.ipynb_checkpoints',\n",
              " 'example.xlsx',\n",
              " 'First.ipynb',\n",
              " 'README.md',\n",
              " 'Second.ipynb',\n",
              " '~$example.xlsx']"
            ]
          },
          "metadata": {
            "tags": []
          },
          "execution_count": 6
        }
      ]
    },
    {
      "cell_type": "code",
      "metadata": {
        "id": "0RSh-tcLekCh",
        "colab_type": "code",
        "colab": {},
        "outputId": "0171803f-dc73-4c7c-8584-42792b25b54a"
      },
      "source": [
        "file = 'example.xlsx'\n",
        "xl = pd.ExcelFile(file)\n",
        "print(xl.sheet_names)\n",
        "df1 = xl.parse('Sheet1')"
      ],
      "execution_count": 0,
      "outputs": [
        {
          "output_type": "stream",
          "text": [
            "['Sheet1']\n"
          ],
          "name": "stdout"
        }
      ]
    },
    {
      "cell_type": "code",
      "metadata": {
        "id": "AqpRA_-iekCn",
        "colab_type": "code",
        "colab": {}
      },
      "source": [
        "writer = pd.ExcelWriter(file, engine='xlxwriter')"
      ],
      "execution_count": 0,
      "outputs": []
    },
    {
      "cell_type": "code",
      "metadata": {
        "id": "LebEJ-BDekCt",
        "colab_type": "code",
        "colab": {}
      },
      "source": [
        ""
      ],
      "execution_count": 0,
      "outputs": []
    }
  ]
}